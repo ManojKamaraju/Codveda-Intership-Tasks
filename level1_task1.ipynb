{
 "cells": [
  {
   "cell_type": "markdown",
   "id": "ba55700a",
   "metadata": {},
   "source": [
    "# Task 1: Data Cleaning and Preprocessing\n",
    "<br>\n",
    "Description: Work with a raw dataset (e.g., CSV file) that contains missing values, duplicates, and inconsistent data formats.\n"
   ]
  },
  {
   "cell_type": "code",
   "execution_count": 9,
   "id": "fe3f01c5",
   "metadata": {},
   "outputs": [],
   "source": [
    "import numpy as np\n",
    "import pandas as pd\n",
    "from sklearn.preprocessing import LabelEncoder, StandardScaler"
   ]
  },
  {
   "cell_type": "code",
   "execution_count": 10,
   "id": "6be7d52e",
   "metadata": {},
   "outputs": [
    {
     "data": {
      "text/html": [
       "<div>\n",
       "<style scoped>\n",
       "    .dataframe tbody tr th:only-of-type {\n",
       "        vertical-align: middle;\n",
       "    }\n",
       "\n",
       "    .dataframe tbody tr th {\n",
       "        vertical-align: top;\n",
       "    }\n",
       "\n",
       "    .dataframe thead th {\n",
       "        text-align: right;\n",
       "    }\n",
       "</style>\n",
       "<table border=\"1\" class=\"dataframe\">\n",
       "  <thead>\n",
       "    <tr style=\"text-align: right;\">\n",
       "      <th></th>\n",
       "      <th>symbol</th>\n",
       "      <th>date</th>\n",
       "      <th>open</th>\n",
       "      <th>high</th>\n",
       "      <th>low</th>\n",
       "      <th>close</th>\n",
       "      <th>volume</th>\n",
       "    </tr>\n",
       "  </thead>\n",
       "  <tbody>\n",
       "    <tr>\n",
       "      <th>0</th>\n",
       "      <td>AAL</td>\n",
       "      <td>2014-01-02</td>\n",
       "      <td>25.0700</td>\n",
       "      <td>25.8200</td>\n",
       "      <td>25.0600</td>\n",
       "      <td>25.3600</td>\n",
       "      <td>8998943</td>\n",
       "    </tr>\n",
       "    <tr>\n",
       "      <th>1</th>\n",
       "      <td>AAPL</td>\n",
       "      <td>2014-01-02</td>\n",
       "      <td>79.3828</td>\n",
       "      <td>79.5756</td>\n",
       "      <td>78.8601</td>\n",
       "      <td>79.0185</td>\n",
       "      <td>58791957</td>\n",
       "    </tr>\n",
       "    <tr>\n",
       "      <th>2</th>\n",
       "      <td>AAP</td>\n",
       "      <td>2014-01-02</td>\n",
       "      <td>110.3600</td>\n",
       "      <td>111.8800</td>\n",
       "      <td>109.2900</td>\n",
       "      <td>109.7400</td>\n",
       "      <td>542711</td>\n",
       "    </tr>\n",
       "    <tr>\n",
       "      <th>3</th>\n",
       "      <td>ABBV</td>\n",
       "      <td>2014-01-02</td>\n",
       "      <td>52.1200</td>\n",
       "      <td>52.3300</td>\n",
       "      <td>51.5200</td>\n",
       "      <td>51.9800</td>\n",
       "      <td>4569061</td>\n",
       "    </tr>\n",
       "    <tr>\n",
       "      <th>4</th>\n",
       "      <td>ABC</td>\n",
       "      <td>2014-01-02</td>\n",
       "      <td>70.1100</td>\n",
       "      <td>70.2300</td>\n",
       "      <td>69.4800</td>\n",
       "      <td>69.8900</td>\n",
       "      <td>1148391</td>\n",
       "    </tr>\n",
       "    <tr>\n",
       "      <th>...</th>\n",
       "      <td>...</td>\n",
       "      <td>...</td>\n",
       "      <td>...</td>\n",
       "      <td>...</td>\n",
       "      <td>...</td>\n",
       "      <td>...</td>\n",
       "      <td>...</td>\n",
       "    </tr>\n",
       "    <tr>\n",
       "      <th>497467</th>\n",
       "      <td>XYL</td>\n",
       "      <td>2017-12-29</td>\n",
       "      <td>68.5300</td>\n",
       "      <td>68.8000</td>\n",
       "      <td>67.9200</td>\n",
       "      <td>68.2000</td>\n",
       "      <td>1046677</td>\n",
       "    </tr>\n",
       "    <tr>\n",
       "      <th>497468</th>\n",
       "      <td>YUM</td>\n",
       "      <td>2017-12-29</td>\n",
       "      <td>82.6400</td>\n",
       "      <td>82.7100</td>\n",
       "      <td>81.5900</td>\n",
       "      <td>81.6100</td>\n",
       "      <td>1347613</td>\n",
       "    </tr>\n",
       "    <tr>\n",
       "      <th>497469</th>\n",
       "      <td>ZBH</td>\n",
       "      <td>2017-12-29</td>\n",
       "      <td>121.7500</td>\n",
       "      <td>121.9500</td>\n",
       "      <td>120.6200</td>\n",
       "      <td>120.6700</td>\n",
       "      <td>1023624</td>\n",
       "    </tr>\n",
       "    <tr>\n",
       "      <th>497470</th>\n",
       "      <td>ZION</td>\n",
       "      <td>2017-12-29</td>\n",
       "      <td>51.2800</td>\n",
       "      <td>51.5500</td>\n",
       "      <td>50.8100</td>\n",
       "      <td>50.8300</td>\n",
       "      <td>1261916</td>\n",
       "    </tr>\n",
       "    <tr>\n",
       "      <th>497471</th>\n",
       "      <td>ZTS</td>\n",
       "      <td>2017-12-29</td>\n",
       "      <td>72.5500</td>\n",
       "      <td>72.7600</td>\n",
       "      <td>72.0400</td>\n",
       "      <td>72.0400</td>\n",
       "      <td>1704122</td>\n",
       "    </tr>\n",
       "  </tbody>\n",
       "</table>\n",
       "<p>497472 rows × 7 columns</p>\n",
       "</div>"
      ],
      "text/plain": [
       "       symbol        date      open      high       low     close    volume\n",
       "0         AAL  2014-01-02   25.0700   25.8200   25.0600   25.3600   8998943\n",
       "1        AAPL  2014-01-02   79.3828   79.5756   78.8601   79.0185  58791957\n",
       "2         AAP  2014-01-02  110.3600  111.8800  109.2900  109.7400    542711\n",
       "3        ABBV  2014-01-02   52.1200   52.3300   51.5200   51.9800   4569061\n",
       "4         ABC  2014-01-02   70.1100   70.2300   69.4800   69.8900   1148391\n",
       "...       ...         ...       ...       ...       ...       ...       ...\n",
       "497467    XYL  2017-12-29   68.5300   68.8000   67.9200   68.2000   1046677\n",
       "497468    YUM  2017-12-29   82.6400   82.7100   81.5900   81.6100   1347613\n",
       "497469    ZBH  2017-12-29  121.7500  121.9500  120.6200  120.6700   1023624\n",
       "497470   ZION  2017-12-29   51.2800   51.5500   50.8100   50.8300   1261916\n",
       "497471    ZTS  2017-12-29   72.5500   72.7600   72.0400   72.0400   1704122\n",
       "\n",
       "[497472 rows x 7 columns]"
      ]
     },
     "execution_count": 10,
     "metadata": {},
     "output_type": "execute_result"
    }
   ],
   "source": [
    "df = pd.read_csv(\"Stock.csv\")\n",
    "df"
   ]
  },
  {
   "cell_type": "markdown",
   "id": "3be1f809",
   "metadata": {},
   "source": [
    "# **Working with inconsistent type of data**"
   ]
  },
  {
   "cell_type": "markdown",
   "id": "bbe05627",
   "metadata": {},
   "source": [
    "Identifying Inconsistent data types"
   ]
  },
  {
   "cell_type": "code",
   "execution_count": 11,
   "id": "844f2631",
   "metadata": {},
   "outputs": [
    {
     "data": {
      "text/plain": [
       "symbol     object\n",
       "date       object\n",
       "open      float64\n",
       "high      float64\n",
       "low       float64\n",
       "close     float64\n",
       "volume      int64\n",
       "dtype: object"
      ]
     },
     "execution_count": 11,
     "metadata": {},
     "output_type": "execute_result"
    }
   ],
   "source": [
    "df.dtypes"
   ]
  },
  {
   "cell_type": "markdown",
   "id": "00a74d22",
   "metadata": {},
   "source": [
    "# **Identifying Object type data**"
   ]
  },
  {
   "cell_type": "code",
   "execution_count": 12,
   "id": "6db98950",
   "metadata": {},
   "outputs": [
    {
     "name": "stdout",
     "output_type": "stream",
     "text": [
      "symbol\n",
      "date\n"
     ]
    }
   ],
   "source": [
    "for i in df.columns:\n",
    "    if(df[i].dtype == \"object\"):\n",
    "        print(i)"
   ]
  },
  {
   "cell_type": "markdown",
   "id": "f3352cb7",
   "metadata": {},
   "source": [
    "Label Encoding Object Type Data \n",
    "Coverting Categorical ---> Numerical data"
   ]
  },
  {
   "cell_type": "code",
   "execution_count": 13,
   "id": "2cdbb144",
   "metadata": {},
   "outputs": [],
   "source": [
    "for i in df.columns:\n",
    "    if(df[i].dtype == 'object' ):\n",
    "        df[i] = LabelEncoder().fit_transform(df[i])"
   ]
  },
  {
   "cell_type": "code",
   "execution_count": 14,
   "id": "b0dae2e3",
   "metadata": {},
   "outputs": [
    {
     "data": {
      "text/plain": [
       "symbol      int32\n",
       "date        int32\n",
       "open      float64\n",
       "high      float64\n",
       "low       float64\n",
       "close     float64\n",
       "volume      int64\n",
       "dtype: object"
      ]
     },
     "execution_count": 14,
     "metadata": {},
     "output_type": "execute_result"
    }
   ],
   "source": [
    "df.dtypes"
   ]
  },
  {
   "cell_type": "markdown",
   "id": "d0dbf7df",
   "metadata": {},
   "source": [
    "Adjusting Data types to be consistent \n",
    "Converting all the data into type-->Float32"
   ]
  },
  {
   "cell_type": "code",
   "execution_count": 15,
   "id": "d9cf2ce7",
   "metadata": {},
   "outputs": [],
   "source": [
    "df = df.astype('float32')"
   ]
  },
  {
   "cell_type": "markdown",
   "id": "28024b1f",
   "metadata": {},
   "source": [
    "# **Handling Missing values**"
   ]
  },
  {
   "cell_type": "markdown",
   "id": "4729a64e",
   "metadata": {},
   "source": [
    "Identifying Missing values"
   ]
  },
  {
   "cell_type": "code",
   "execution_count": 16,
   "id": "839c0314",
   "metadata": {},
   "outputs": [
    {
     "data": {
      "text/html": [
       "<div>\n",
       "<style scoped>\n",
       "    .dataframe tbody tr th:only-of-type {\n",
       "        vertical-align: middle;\n",
       "    }\n",
       "\n",
       "    .dataframe tbody tr th {\n",
       "        vertical-align: top;\n",
       "    }\n",
       "\n",
       "    .dataframe thead th {\n",
       "        text-align: right;\n",
       "    }\n",
       "</style>\n",
       "<table border=\"1\" class=\"dataframe\">\n",
       "  <thead>\n",
       "    <tr style=\"text-align: right;\">\n",
       "      <th></th>\n",
       "      <th>0</th>\n",
       "    </tr>\n",
       "  </thead>\n",
       "  <tbody>\n",
       "    <tr>\n",
       "      <th>symbol</th>\n",
       "      <td>0</td>\n",
       "    </tr>\n",
       "    <tr>\n",
       "      <th>date</th>\n",
       "      <td>0</td>\n",
       "    </tr>\n",
       "    <tr>\n",
       "      <th>open</th>\n",
       "      <td>11</td>\n",
       "    </tr>\n",
       "    <tr>\n",
       "      <th>high</th>\n",
       "      <td>8</td>\n",
       "    </tr>\n",
       "    <tr>\n",
       "      <th>low</th>\n",
       "      <td>8</td>\n",
       "    </tr>\n",
       "    <tr>\n",
       "      <th>close</th>\n",
       "      <td>0</td>\n",
       "    </tr>\n",
       "    <tr>\n",
       "      <th>volume</th>\n",
       "      <td>0</td>\n",
       "    </tr>\n",
       "  </tbody>\n",
       "</table>\n",
       "</div>"
      ],
      "text/plain": [
       "         0\n",
       "symbol   0\n",
       "date     0\n",
       "open    11\n",
       "high     8\n",
       "low      8\n",
       "close    0\n",
       "volume   0"
      ]
     },
     "execution_count": 16,
     "metadata": {},
     "output_type": "execute_result"
    }
   ],
   "source": [
    "# Identifying Missing values\n",
    "nullpoints = pd.DataFrame(df.isnull().sum() )\n",
    "nullpoints"
   ]
  },
  {
   "cell_type": "markdown",
   "id": "2f6684b8",
   "metadata": {},
   "source": [
    "Replacing the missing values with mode of the data "
   ]
  },
  {
   "cell_type": "code",
   "execution_count": 17,
   "id": "9d165b47",
   "metadata": {},
   "outputs": [],
   "source": [
    "for i in df.columns:\n",
    "    if(df[i].isnull().sum() != 0):\n",
    "        df[i] = df[i].mode()[0]"
   ]
  },
  {
   "cell_type": "code",
   "execution_count": 18,
   "id": "50f9ad3b",
   "metadata": {},
   "outputs": [
    {
     "data": {
      "text/plain": [
       "symbol    0\n",
       "date      0\n",
       "open      0\n",
       "high      0\n",
       "low       0\n",
       "close     0\n",
       "volume    0\n",
       "dtype: int64"
      ]
     },
     "execution_count": 18,
     "metadata": {},
     "output_type": "execute_result"
    }
   ],
   "source": [
    "df.isnull().sum()"
   ]
  },
  {
   "cell_type": "markdown",
   "id": "1251c357",
   "metadata": {},
   "source": [
    "# **Standizing Data**"
   ]
  },
  {
   "cell_type": "markdown",
   "id": "77692c65",
   "metadata": {},
   "source": [
    "Arrananging all the data to fall under same range\n",
    "<br>\n",
    "Making each column to be between 0 to 1"
   ]
  },
  {
   "cell_type": "code",
   "execution_count": 19,
   "id": "1f08ba9e",
   "metadata": {},
   "outputs": [],
   "source": [
    "for i in df.columns:\n",
    "    df[i] = StandardScaler().fit_transform(df[[i]])"
   ]
  },
  {
   "cell_type": "code",
   "execution_count": null,
   "id": "1f47a179",
   "metadata": {},
   "outputs": [
    {
     "data": {
      "text/html": [
       "<div>\n",
       "<style scoped>\n",
       "    .dataframe tbody tr th:only-of-type {\n",
       "        vertical-align: middle;\n",
       "    }\n",
       "\n",
       "    .dataframe tbody tr th {\n",
       "        vertical-align: top;\n",
       "    }\n",
       "\n",
       "    .dataframe thead th {\n",
       "        text-align: right;\n",
       "    }\n",
       "</style>\n",
       "<table border=\"1\" class=\"dataframe\">\n",
       "  <thead>\n",
       "    <tr style=\"text-align: right;\">\n",
       "      <th></th>\n",
       "      <th>symbol</th>\n",
       "      <th>date</th>\n",
       "      <th>open</th>\n",
       "      <th>high</th>\n",
       "      <th>low</th>\n",
       "      <th>close</th>\n",
       "      <th>volume</th>\n",
       "    </tr>\n",
       "  </thead>\n",
       "  <tbody>\n",
       "    <tr>\n",
       "      <th>0</th>\n",
       "      <td>-1.727913</td>\n",
       "      <td>-1.743806</td>\n",
       "      <td>0.0</td>\n",
       "      <td>0.0</td>\n",
       "      <td>0.0</td>\n",
       "      <td>-0.601239</td>\n",
       "      <td>0.576440</td>\n",
       "    </tr>\n",
       "    <tr>\n",
       "      <th>1</th>\n",
       "      <td>-1.714198</td>\n",
       "      <td>-1.743806</td>\n",
       "      <td>0.0</td>\n",
       "      <td>0.0</td>\n",
       "      <td>0.0</td>\n",
       "      <td>-0.072439</td>\n",
       "      <td>6.625058</td>\n",
       "    </tr>\n",
       "    <tr>\n",
       "      <th>2</th>\n",
       "      <td>-1.721055</td>\n",
       "      <td>-1.743806</td>\n",
       "      <td>0.0</td>\n",
       "      <td>0.0</td>\n",
       "      <td>0.0</td>\n",
       "      <td>0.230318</td>\n",
       "      <td>-0.450782</td>\n",
       "    </tr>\n",
       "    <tr>\n",
       "      <th>3</th>\n",
       "      <td>-1.707341</td>\n",
       "      <td>-1.743806</td>\n",
       "      <td>0.0</td>\n",
       "      <td>0.0</td>\n",
       "      <td>0.0</td>\n",
       "      <td>-0.338901</td>\n",
       "      <td>0.038319</td>\n",
       "    </tr>\n",
       "    <tr>\n",
       "      <th>4</th>\n",
       "      <td>-1.700483</td>\n",
       "      <td>-1.743806</td>\n",
       "      <td>0.0</td>\n",
       "      <td>0.0</td>\n",
       "      <td>0.0</td>\n",
       "      <td>-0.162400</td>\n",
       "      <td>-0.377207</td>\n",
       "    </tr>\n",
       "  </tbody>\n",
       "</table>\n",
       "</div>"
      ],
      "text/plain": [
       "     symbol      date  open  high  low     close    volume\n",
       "0 -1.727913 -1.743806   0.0   0.0  0.0 -0.601239  0.576440\n",
       "1 -1.714198 -1.743806   0.0   0.0  0.0 -0.072439  6.625058\n",
       "2 -1.721055 -1.743806   0.0   0.0  0.0  0.230318 -0.450782\n",
       "3 -1.707341 -1.743806   0.0   0.0  0.0 -0.338901  0.038319\n",
       "4 -1.700483 -1.743806   0.0   0.0  0.0 -0.162400 -0.377207"
      ]
     },
     "execution_count": 20,
     "metadata": {},
     "output_type": "execute_result"
    },
    {
     "ename": "",
     "evalue": "",
     "output_type": "error",
     "traceback": [
      "\u001b[1;31mThe Kernel crashed while executing code in the current cell or a previous cell. \n",
      "\u001b[1;31mPlease review the code in the cell(s) to identify a possible cause of the failure. \n",
      "\u001b[1;31mClick <a href='https://aka.ms/vscodeJupyterKernelCrash'>here</a> for more info. \n",
      "\u001b[1;31mView Jupyter <a href='command:jupyter.viewOutput'>log</a> for further details."
     ]
    }
   ],
   "source": [
    "df.head()"
   ]
  }
 ],
 "metadata": {
  "kernelspec": {
   "display_name": "Python 3",
   "language": "python",
   "name": "python3"
  },
  "language_info": {
   "codemirror_mode": {
    "name": "ipython",
    "version": 3
   },
   "file_extension": ".py",
   "mimetype": "text/x-python",
   "name": "python",
   "nbconvert_exporter": "python",
   "pygments_lexer": "ipython3",
   "version": "3.10.11"
  }
 },
 "nbformat": 4,
 "nbformat_minor": 5
}
